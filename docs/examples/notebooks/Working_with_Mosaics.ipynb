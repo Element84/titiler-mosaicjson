{
 "cells": [
  {
   "cell_type": "markdown",
   "id": "mysterious-transportation",
   "metadata": {},
   "source": [
    "# Working with Mosaics"
   ]
  },
  {
   "cell_type": "markdown",
   "id": "about-problem",
   "metadata": {},
   "source": [
    "## Intro\n",
    "\n",
    "The NASA-IMPACT TiTiler fork adds the ability to generate and store a MosaicJSON entity in the service, and generate tiles from this stored MosaicJSON. For very large MosaicJSON files, this has much better performance that the existing tiles endpoint that takes a URL to a MosaicJSON file as a parameter.\n",
    "\n",
    "There are three ways to create a MosaicJSON:\n",
    "\n",
    "- provide a valid MosaicJSON body\n",
    "- provide a list of URIs to construct a MosaicJSON from\n",
    "- provide a STAC API endpoint and query, from which the results will be used to contruct a MosaicJSON\n",
    "\n",
    "Construction from a list of URIs or a STAC API endpoint is limited to only allow 100 files to be mosaiced, since this is a relatively expensive and time-consuming operation to run on the server.\n",
    "\n",
    "All three of these creation sources use the same endpoint, `/mosaicjson/mosaics`, and distinguish the source with the `Content-Type` header in the request."
   ]
  },
  {
   "cell_type": "code",
   "execution_count": 1,
   "id": "automatic-system",
   "metadata": {},
   "outputs": [],
   "source": [
    "# Uncomment this line if you need to install the dependencies\n",
    "#!pip install requests folium"
   ]
  },
  {
   "cell_type": "code",
   "execution_count": 2,
   "id": "fixed-childhood",
   "metadata": {},
   "outputs": [],
   "source": [
    "# imports and helper functions\n",
    "\n",
    "import requests\n",
    "import json\n",
    "import folium\n",
    "\n",
    "\n",
    "# the root URL for the service\n",
    "root_url = \"https://h9su0upami.execute-api.us-east-1.amazonaws.com\""
   ]
  },
  {
   "cell_type": "markdown",
   "id": "thorough-geometry",
   "metadata": {},
   "source": [
    "## Create with MosaicJSON\n",
    "\n",
    "This example creates a mosaicjson resource from an existing MosaicJSON file.\n",
    "\n",
    "Content-Type header is set to `application/vnd.mosaicjson+json`\n",
    "\n",
    "This is also the default behavior if the request Content-Type header is not set or is set to `application/json` or `application/json; charset=utf-8`."
   ]
  },
  {
   "cell_type": "markdown",
   "id": "architectural-panama",
   "metadata": {},
   "source": [
    "Below is a MosaicJSON description as a dict. When constructing a MosaicJSON definition, it is necessary to use a library such as [cogeo-mosaic](https://github.com/developmentseed/cogeo-mosaic)."
   ]
  },
  {
   "cell_type": "code",
   "execution_count": 3,
   "id": "permanent-indicator",
   "metadata": {},
   "outputs": [],
   "source": [
    "mosaicjson_dict = {\n",
    "    \"mosaicjson\": \"0.0.2\",\n",
    "    \"name\": \"my_fabulous_mosaic\",\n",
    "    \"description\": \"A fabulous mosaic of the Sahara Desert in northern Chad\",\n",
    "    \"version\": \"1.0.0\",\n",
    "    \"attribution\": \"Contains modified Copernicus Sentinel data 2021\",  \n",
    "    \"minzoom\": 8,\n",
    "    \"maxzoom\": 14,\n",
    "    \"quadkey_zoom\": 8,\n",
    "    \"bounds\": [\n",
    "      19.066830301965645,\n",
    "      19.79785386241398,\n",
    "      21.2739508724601,\n",
    "      21.703408250526167\n",
    "    ],\n",
    "    \"center\": [\n",
    "      20.17039058721287,\n",
    "      20.750631056470073,\n",
    "      8\n",
    "    ],\n",
    "    \"tiles\": {\n",
    "      \"12221101\": [\n",
    "        \"https://sentinel-cogs.s3.us-west-2.amazonaws.com/sentinel-s2-l2a-cogs/34/Q/CH/2021/4/S2B_34QCH_20210420_0_L2A/TCI.tif\",\n",
    "        \"https://sentinel-cogs.s3.us-west-2.amazonaws.com/sentinel-s2-l2a-cogs/34/Q/CJ/2021/4/S2B_34QCJ_20210420_0_L2A/TCI.tif\"\n",
    "      ],\n",
    "      \"12221110\": [\n",
    "        \"https://sentinel-cogs.s3.us-west-2.amazonaws.com/sentinel-s2-l2a-cogs/34/Q/CH/2021/4/S2B_34QCH_20210420_0_L2A/TCI.tif\",\n",
    "        \"https://sentinel-cogs.s3.us-west-2.amazonaws.com/sentinel-s2-l2a-cogs/34/Q/DH/2021/4/S2B_34QDH_20210420_0_L2A/TCI.tif\",\n",
    "        \"https://sentinel-cogs.s3.us-west-2.amazonaws.com/sentinel-s2-l2a-cogs/34/Q/CJ/2021/4/S2B_34QCJ_20210420_0_L2A/TCI.tif\",\n",
    "        \"https://sentinel-cogs.s3.us-west-2.amazonaws.com/sentinel-s2-l2a-cogs/34/Q/DJ/2021/4/S2B_34QDJ_20210420_0_L2A/TCI.tif\",\n",
    "        \"https://sentinel-cogs.s3.us-west-2.amazonaws.com/sentinel-s2-l2a-cogs/34/Q/EJ/2021/4/S2B_34QEJ_20210420_0_L2A/TCI.tif\"\n",
    "      ],\n",
    "      \"12221111\": [\n",
    "        \"https://sentinel-cogs.s3.us-west-2.amazonaws.com/sentinel-s2-l2a-cogs/34/Q/DJ/2021/4/S2B_34QDJ_20210420_0_L2A/TCI.tif\",\n",
    "        \"https://sentinel-cogs.s3.us-west-2.amazonaws.com/sentinel-s2-l2a-cogs/34/Q/EJ/2021/4/S2B_34QEJ_20210420_0_L2A/TCI.tif\"\n",
    "      ],\n",
    "      \"12221103\": [\n",
    "        \"https://sentinel-cogs.s3.us-west-2.amazonaws.com/sentinel-s2-l2a-cogs/34/Q/CH/2021/4/S2B_34QCH_20210420_0_L2A/TCI.tif\"\n",
    "      ],\n",
    "      \"12221112\": [\n",
    "        \"https://sentinel-cogs.s3.us-west-2.amazonaws.com/sentinel-s2-l2a-cogs/34/Q/CH/2021/4/S2B_34QCH_20210420_0_L2A/TCI.tif\",\n",
    "        \"https://sentinel-cogs.s3.us-west-2.amazonaws.com/sentinel-s2-l2a-cogs/34/Q/DH/2021/4/S2B_34QDH_20210420_0_L2A/TCI.tif\"\n",
    "      ]\n",
    "    }\n",
    "}"
   ]
  },
  {
   "cell_type": "markdown",
   "id": "virtual-brooklyn",
   "metadata": {},
   "source": [
    "POST it, using the header `Content-Type: application/vnd.mosaicjson+json` that describes to the endpoint that the body is a MosaicJSON file."
   ]
  },
  {
   "cell_type": "code",
   "execution_count": 4,
   "id": "sharp-dayton",
   "metadata": {},
   "outputs": [],
   "source": [
    "r = requests.post(\n",
    "            url=f\"{root_url}/mosaicjson/mosaics\",\n",
    "            headers={\n",
    "                \"Content-Type\": \"application/vnd.titiler.mosaicjson+json\",\n",
    "            },\n",
    "            json=mosaicjson_dict)"
   ]
  },
  {
   "cell_type": "markdown",
   "id": "twelve-prisoner",
   "metadata": {},
   "source": [
    "The response body is the same for all responses, and will be described later, particularly the available link relations."
   ]
  },
  {
   "cell_type": "code",
   "execution_count": 5,
   "id": "featured-colors",
   "metadata": {},
   "outputs": [
    {
     "name": "stdout",
     "output_type": "stream",
     "text": [
      "Response:\n",
      "{\n",
      "  \"id\": \"06aca4cd-a8b4-4ade-b163-ccec05ce0fcd\",\n",
      "  \"links\": [\n",
      "    {\n",
      "      \"href\": \"https://h9su0upami.execute-api.us-east-1.amazonaws.com/mosaicjson/mosaics/06aca4cd-a8b4-4ade-b163-ccec05ce0fcd\",\n",
      "      \"rel\": \"self\",\n",
      "      \"type\": \"application/json\",\n",
      "      \"title\": \"Self\"\n",
      "    },\n",
      "    {\n",
      "      \"href\": \"https://h9su0upami.execute-api.us-east-1.amazonaws.com/mosaicjson/mosaics/06aca4cd-a8b4-4ade-b163-ccec05ce0fcd/mosaicjson\",\n",
      "      \"rel\": \"mosaicjson\",\n",
      "      \"type\": \"application/json\",\n",
      "      \"title\": \"MosiacJSON\"\n",
      "    },\n",
      "    {\n",
      "      \"href\": \"https://h9su0upami.execute-api.us-east-1.amazonaws.com/mosaicjson/mosaics/06aca4cd-a8b4-4ade-b163-ccec05ce0fcd/tilejson.json\",\n",
      "      \"rel\": \"tilejson\",\n",
      "      \"type\": \"application/json\",\n",
      "      \"title\": \"TileJSON\"\n",
      "    },\n",
      "    {\n",
      "      \"href\": \"https://h9su0upami.execute-api.us-east-1.amazonaws.com/mosaicjson/mosaics/06aca4cd-a8b4-4ade-b163-ccec05ce0fcd/tiles/{z}/{x}/{y}\",\n",
      "      \"rel\": \"tiles\",\n",
      "      \"type\": \"application/json\",\n",
      "      \"title\": \"Tiles\"\n",
      "    },\n",
      "    {\n",
      "      \"href\": \"https://h9su0upami.execute-api.us-east-1.amazonaws.com/mosaicjson/mosaics/06aca4cd-a8b4-4ade-b163-ccec05ce0fcd/WMTSCapabilities.xml\",\n",
      "      \"rel\": \"wmts\",\n",
      "      \"type\": \"application/json\",\n",
      "      \"title\": \"WMTS\"\n",
      "    }\n",
      "  ]\n",
      "}\n"
     ]
    }
   ],
   "source": [
    "print(\"Response:\")\n",
    "print(json.dumps(r.json(), indent=2))"
   ]
  },
  {
   "cell_type": "markdown",
   "id": "buried-boring",
   "metadata": {},
   "source": [
    "## Create with list of URLs\n",
    "\n",
    "This creates a MosaicJSON from a list of URLs. \n",
    "\n",
    "The `Content-Type` to set in this request is `application/vnd.titiler.urls+json`\n",
    "\n",
    "Parameters:\n",
    "\n",
    "- **urls** - the root endpoint (Landing Page) for the STAC API. Required, no default. This list must not contain more than 100 URLs.\n",
    "- **name** - the name field for the resulting MosaicJSON entity. Defaults to `null`.\n",
    "- **description** - the description field for the resulting MosaicJSON entity. Defaults to `null`.\n",
    "- **attribution** - the attribution field for the resulting MosaicJSON entity. Defaults to `null`.\n",
    "- **minzoom** - the forced minimum zoom for the mosaic.\n",
    "- **maxzoom** - the forced maximum zoom for the mosaic."
   ]
  },
  {
   "cell_type": "code",
   "execution_count": 6,
   "id": "focused-paste",
   "metadata": {},
   "outputs": [],
   "source": [
    "r = requests.post(\n",
    "        url=f\"{root_url}/mosaicjson/mosaics\",\n",
    "        headers={\n",
    "            \"Content-Type\": \"application/vnd.titiler.urls+json\",\n",
    "        },\n",
    "        json={ \n",
    "                \"name\": \"my_fabulous_mosaic\",\n",
    "                \"description\": \"A fabulous mosaic of the Sahara Desert in northern Chad\",\n",
    "                \"attribution\": \"Contains modified Copernicus Sentinel data 2021\",  \n",
    "                \"urls\": [\n",
    "        \"https://sentinel-cogs.s3.us-west-2.amazonaws.com/sentinel-s2-l2a-cogs/34/Q/CH/2021/4/S2B_34QCH_20210420_0_L2A/TCI.tif\"\n",
    "        \"https://sentinel-cogs.s3.us-west-2.amazonaws.com/sentinel-s2-l2a-cogs/34/Q/CH/2021/4/S2B_34QCH_20210420_0_L2A/TCI.tif\",\n",
    "        \"https://sentinel-cogs.s3.us-west-2.amazonaws.com/sentinel-s2-l2a-cogs/34/Q/CJ/2021/4/S2B_34QCJ_20210420_0_L2A/TCI.tif\"\n",
    "        \"https://sentinel-cogs.s3.us-west-2.amazonaws.com/sentinel-s2-l2a-cogs/34/Q/CJ/2021/4/S2B_34QCJ_20210420_0_L2A/TCI.tif\",\n",
    "        \"https://sentinel-cogs.s3.us-west-2.amazonaws.com/sentinel-s2-l2a-cogs/34/Q/DH/2021/4/S2B_34QDH_20210420_0_L2A/TCI.tif\"\n",
    "        \"https://sentinel-cogs.s3.us-west-2.amazonaws.com/sentinel-s2-l2a-cogs/34/Q/DH/2021/4/S2B_34QDH_20210420_0_L2A/TCI.tif\",\n",
    "        \"https://sentinel-cogs.s3.us-west-2.amazonaws.com/sentinel-s2-l2a-cogs/34/Q/DJ/2021/4/S2B_34QDJ_20210420_0_L2A/TCI.tif\",\n",
    "        \"https://sentinel-cogs.s3.us-west-2.amazonaws.com/sentinel-s2-l2a-cogs/34/Q/EJ/2021/4/S2B_34QEJ_20210420_0_L2A/TCI.tif\"\n",
    "               ],\n",
    "                \"minzoom\": \"3\",\n",
    "                \"maxzoom\": \"20\"\n",
    "        }\n",
    "    )"
   ]
  },
  {
   "cell_type": "code",
   "execution_count": 7,
   "id": "facial-kansas",
   "metadata": {},
   "outputs": [
    {
     "name": "stdout",
     "output_type": "stream",
     "text": [
      "Response:\n",
      "{\n",
      "  \"id\": \"48bed98b-57e8-4006-9d40-c1bdb26b977e\",\n",
      "  \"links\": [\n",
      "    {\n",
      "      \"href\": \"https://h9su0upami.execute-api.us-east-1.amazonaws.com/mosaicjson/mosaics/48bed98b-57e8-4006-9d40-c1bdb26b977e\",\n",
      "      \"rel\": \"self\",\n",
      "      \"type\": \"application/json\",\n",
      "      \"title\": \"Self\"\n",
      "    },\n",
      "    {\n",
      "      \"href\": \"https://h9su0upami.execute-api.us-east-1.amazonaws.com/mosaicjson/mosaics/48bed98b-57e8-4006-9d40-c1bdb26b977e/mosaicjson\",\n",
      "      \"rel\": \"mosaicjson\",\n",
      "      \"type\": \"application/json\",\n",
      "      \"title\": \"MosiacJSON\"\n",
      "    },\n",
      "    {\n",
      "      \"href\": \"https://h9su0upami.execute-api.us-east-1.amazonaws.com/mosaicjson/mosaics/48bed98b-57e8-4006-9d40-c1bdb26b977e/tilejson.json\",\n",
      "      \"rel\": \"tilejson\",\n",
      "      \"type\": \"application/json\",\n",
      "      \"title\": \"TileJSON\"\n",
      "    },\n",
      "    {\n",
      "      \"href\": \"https://h9su0upami.execute-api.us-east-1.amazonaws.com/mosaicjson/mosaics/48bed98b-57e8-4006-9d40-c1bdb26b977e/tiles/{z}/{x}/{y}\",\n",
      "      \"rel\": \"tiles\",\n",
      "      \"type\": \"application/json\",\n",
      "      \"title\": \"Tiles\"\n",
      "    },\n",
      "    {\n",
      "      \"href\": \"https://h9su0upami.execute-api.us-east-1.amazonaws.com/mosaicjson/mosaics/48bed98b-57e8-4006-9d40-c1bdb26b977e/WMTSCapabilities.xml\",\n",
      "      \"rel\": \"wmts\",\n",
      "      \"type\": \"application/json\",\n",
      "      \"title\": \"WMTS\"\n",
      "    }\n",
      "  ]\n",
      "}\n"
     ]
    }
   ],
   "source": [
    "print(\"Response:\")\n",
    "print(json.dumps(r.json(), indent=2))"
   ]
  },
  {
   "cell_type": "markdown",
   "id": "entitled-craft",
   "metadata": {},
   "source": [
    "## Create with STAC API query\n",
    "\n",
    "This is the same body that would be POST'ed to the STAC API Item Search endpoint (`/search`), with the addition of these fields:\n",
    "\n",
    "- **stac_api_root** - the root endpoint (Landing Page) for the STAC API. Required, no default.\n",
    "- **name** - the name field for the resulting MosaicJSON entity. Defaults to `null`.\n",
    "- **description** - the description field for the resulting MosaicJSON entity. Defaults to `null`.\n",
    "- **attribution** - the attribution field for the resulting MosaicJSON entity. Defaults to `null`.\n",
    "- **asset_name** - the name of the asset in each STAC Item to use for the mosaic. Defaults to `visual`.\n",
    "\n",
    "This query must not return more than 100 items.\n",
    "\n",
    "The `Content-Type` header to set for this request is `application/vnd.titiler.stac-api-query+json`"
   ]
  },
  {
   "cell_type": "code",
   "execution_count": 8,
   "id": "enabling-field",
   "metadata": {},
   "outputs": [],
   "source": [
    "r = requests.post(\n",
    "        url=f\"{root_url}/mosaicjson/mosaics\",\n",
    "        headers={\n",
    "            \"Content-Type\": \"application/vnd.titiler.stac-api-query+json\",\n",
    "        },\n",
    "        json={\n",
    "          \"stac_api_root\": \"https://earth-search.aws.element84.com/v0\",\n",
    "          \"name\": \"foo\",\n",
    "          \"description\": \"bar\",\n",
    "          \"attribution\": \"shmattribution\",\n",
    "          \"asset_name\": \"visual\",\n",
    "          \"collections\": [\n",
    "            \"sentinel-s2-l2a-cogs\"\n",
    "          ],\n",
    "          \"datetime\": \"2021-04-20T00:00:00Z/2021-04-21T02:00:00Z\",\n",
    "          \"bbox\": [\n",
    "            20,\n",
    "            20,\n",
    "            21,\n",
    "            21\n",
    "          ]\n",
    "        }\n",
    "    )"
   ]
  },
  {
   "cell_type": "code",
   "execution_count": 9,
   "id": "earned-commercial",
   "metadata": {},
   "outputs": [
    {
     "name": "stdout",
     "output_type": "stream",
     "text": [
      "Response:\n",
      "{\n",
      "  \"id\": \"23ed9cd2-fc82-4261-bad2-d16417522ee6\",\n",
      "  \"links\": [\n",
      "    {\n",
      "      \"href\": \"https://h9su0upami.execute-api.us-east-1.amazonaws.com/mosaicjson/mosaics/23ed9cd2-fc82-4261-bad2-d16417522ee6\",\n",
      "      \"rel\": \"self\",\n",
      "      \"type\": \"application/json\",\n",
      "      \"title\": \"Self\"\n",
      "    },\n",
      "    {\n",
      "      \"href\": \"https://h9su0upami.execute-api.us-east-1.amazonaws.com/mosaicjson/mosaics/23ed9cd2-fc82-4261-bad2-d16417522ee6/mosaicjson\",\n",
      "      \"rel\": \"mosaicjson\",\n",
      "      \"type\": \"application/json\",\n",
      "      \"title\": \"MosiacJSON\"\n",
      "    },\n",
      "    {\n",
      "      \"href\": \"https://h9su0upami.execute-api.us-east-1.amazonaws.com/mosaicjson/mosaics/23ed9cd2-fc82-4261-bad2-d16417522ee6/tilejson.json\",\n",
      "      \"rel\": \"tilejson\",\n",
      "      \"type\": \"application/json\",\n",
      "      \"title\": \"TileJSON\"\n",
      "    },\n",
      "    {\n",
      "      \"href\": \"https://h9su0upami.execute-api.us-east-1.amazonaws.com/mosaicjson/mosaics/23ed9cd2-fc82-4261-bad2-d16417522ee6/tiles/{z}/{x}/{y}\",\n",
      "      \"rel\": \"tiles\",\n",
      "      \"type\": \"application/json\",\n",
      "      \"title\": \"Tiles\"\n",
      "    },\n",
      "    {\n",
      "      \"href\": \"https://h9su0upami.execute-api.us-east-1.amazonaws.com/mosaicjson/mosaics/23ed9cd2-fc82-4261-bad2-d16417522ee6/WMTSCapabilities.xml\",\n",
      "      \"rel\": \"wmts\",\n",
      "      \"type\": \"application/json\",\n",
      "      \"title\": \"WMTS\"\n",
      "    }\n",
      "  ]\n",
      "}\n"
     ]
    }
   ],
   "source": [
    "response_body = r.json()\n",
    "\n",
    "print(\"Response:\")\n",
    "print(json.dumps(response_body, indent=2))"
   ]
  },
  {
   "cell_type": "markdown",
   "id": "cognitive-oracle",
   "metadata": {},
   "source": [
    "The `Location` header in the response contains the URI of the newly-created Mosaic resource:"
   ]
  },
  {
   "cell_type": "code",
   "execution_count": 10,
   "id": "following-longer",
   "metadata": {},
   "outputs": [
    {
     "name": "stdout",
     "output_type": "stream",
     "text": [
      "https://h9su0upami.execute-api.us-east-1.amazonaws.com/mosaicjson/mosaics/23ed9cd2-fc82-4261-bad2-d16417522ee6\n"
     ]
    }
   ],
   "source": [
    "location_header_url = r.headers[\"location\"]\n",
    "print(location_header_url)"
   ]
  },
  {
   "cell_type": "code",
   "execution_count": 11,
   "id": "acoustic-lesbian",
   "metadata": {},
   "outputs": [],
   "source": [
    "def get_link_by_rel(response_body: dict, rel: str) -> str:\n",
    "    return next((x[\"href\"] for x in response_body[\"links\"] if x[\"rel\"] == rel), None)"
   ]
  },
  {
   "cell_type": "code",
   "execution_count": 12,
   "id": "noticed-leeds",
   "metadata": {},
   "outputs": [
    {
     "name": "stdout",
     "output_type": "stream",
     "text": [
      "self href: https://h9su0upami.execute-api.us-east-1.amazonaws.com/mosaicjson/mosaics/23ed9cd2-fc82-4261-bad2-d16417522ee6\n"
     ]
    }
   ],
   "source": [
    "self_link = get_link_by_rel(response_body, \"self\")\n",
    "print(f\"self href: {self_link}\")"
   ]
  },
  {
   "cell_type": "markdown",
   "id": "processed-stream",
   "metadata": {},
   "source": [
    "The tilejson link can be used to retrieve a TileJSON file describing the tiles endpoint. This URL accepts the query parameters `tile_scale` (e.g, `2` for Retina displays) and `tile_format` (e.g., png, jpg) and adds these parameters to the tiles URL. "
   ]
  },
  {
   "cell_type": "code",
   "execution_count": 13,
   "id": "assured-hobby",
   "metadata": {},
   "outputs": [
    {
     "name": "stdout",
     "output_type": "stream",
     "text": [
      "tilejson href: https://h9su0upami.execute-api.us-east-1.amazonaws.com/mosaicjson/mosaics/23ed9cd2-fc82-4261-bad2-d16417522ee6/tilejson.json\n"
     ]
    }
   ],
   "source": [
    "tilejson_link = get_link_by_rel(response_body, \"tilejson\")\n",
    "print(f\"tilejson href: {tilejson_link}\")"
   ]
  },
  {
   "cell_type": "code",
   "execution_count": 14,
   "id": "religious-chase",
   "metadata": {},
   "outputs": [
    {
     "data": {
      "text/plain": [
       "'https://h9su0upami.execute-api.us-east-1.amazonaws.com/mosaicjson/mosaics/23ed9cd2-fc82-4261-bad2-d16417522ee6/tiles/{z}/{x}/{y}@2x.jpg?'"
      ]
     },
     "execution_count": 14,
     "metadata": {},
     "output_type": "execute_result"
    }
   ],
   "source": [
    "requests.get(url=tilejson_link, params = { \"tile_format\":\"jpg\", \"tile_scale\": 2 }).json()[\"tiles\"][0]"
   ]
  },
  {
   "cell_type": "markdown",
   "id": "activated-dinner",
   "metadata": {},
   "source": [
    "The `mosaicjson` link can be used to retrieve the entire mosaicjson, but this is rarely necessary and expensive to perform. In most cases, the `tiles` link will be used isntead."
   ]
  },
  {
   "cell_type": "code",
   "execution_count": 15,
   "id": "vulnerable-capacity",
   "metadata": {},
   "outputs": [
    {
     "name": "stdout",
     "output_type": "stream",
     "text": [
      "mosaicjson href: https://h9su0upami.execute-api.us-east-1.amazonaws.com/mosaicjson/mosaics/23ed9cd2-fc82-4261-bad2-d16417522ee6/mosaicjson\n"
     ]
    }
   ],
   "source": [
    "mosaicjson_link = get_link_by_rel(response_body, \"mosaicjson\")\n",
    "print(f\"mosaicjson href: {mosaicjson_link}\")"
   ]
  },
  {
   "cell_type": "code",
   "execution_count": 16,
   "id": "fantastic-thing",
   "metadata": {},
   "outputs": [
    {
     "name": "stdout",
     "output_type": "stream",
     "text": [
      "tiles href: https://h9su0upami.execute-api.us-east-1.amazonaws.com/mosaicjson/mosaics/23ed9cd2-fc82-4261-bad2-d16417522ee6/tiles/{z}/{x}/{y}\n"
     ]
    }
   ],
   "source": [
    "tiles_link = get_link_by_rel(response_body, \"tiles\")\n",
    "print(f\"tiles href: {tiles_link}\")"
   ]
  },
  {
   "cell_type": "markdown",
   "id": "automated-rendering",
   "metadata": {},
   "source": [
    "Now we'll use the `tiles` link, which uses the simple `xyz` tile URL scheme and generate a map. More complex tile URL formats can be constructed by passing parameters to the mosaic tilejson endpoint (shown above). The tilejson endpoint accepts the same parameters as the non-mosaicjson tilejson endpoint. "
   ]
  },
  {
   "cell_type": "code",
   "execution_count": 17,
   "id": "robust-azerbaijan",
   "metadata": {},
   "outputs": [
    {
     "data": {
      "text/html": [
       "<div style=\"width:100%;\"><div style=\"position:relative;width:100%;height:0;padding-bottom:60%;\"><span style=\"color:#565656\">Make this Notebook Trusted to load map: File -> Trust Notebook</span><iframe src=\"about:blank\" style=\"position:absolute;width:100%;height:100%;left:0;top:0;border:none !important;\" data-html=%3C%21DOCTYPE%20html%3E%0A%3Chead%3E%20%20%20%20%0A%20%20%20%20%3Cmeta%20http-equiv%3D%22content-type%22%20content%3D%22text/html%3B%20charset%3DUTF-8%22%20/%3E%0A%20%20%20%20%0A%20%20%20%20%20%20%20%20%3Cscript%3E%0A%20%20%20%20%20%20%20%20%20%20%20%20L_NO_TOUCH%20%3D%20false%3B%0A%20%20%20%20%20%20%20%20%20%20%20%20L_DISABLE_3D%20%3D%20false%3B%0A%20%20%20%20%20%20%20%20%3C/script%3E%0A%20%20%20%20%0A%20%20%20%20%3Cstyle%3Ehtml%2C%20body%20%7Bwidth%3A%20100%25%3Bheight%3A%20100%25%3Bmargin%3A%200%3Bpadding%3A%200%3B%7D%3C/style%3E%0A%20%20%20%20%3Cstyle%3E%23map%20%7Bposition%3Aabsolute%3Btop%3A0%3Bbottom%3A0%3Bright%3A0%3Bleft%3A0%3B%7D%3C/style%3E%0A%20%20%20%20%3Cscript%20src%3D%22https%3A//cdn.jsdelivr.net/npm/leaflet%401.6.0/dist/leaflet.js%22%3E%3C/script%3E%0A%20%20%20%20%3Cscript%20src%3D%22https%3A//code.jquery.com/jquery-1.12.4.min.js%22%3E%3C/script%3E%0A%20%20%20%20%3Cscript%20src%3D%22https%3A//maxcdn.bootstrapcdn.com/bootstrap/3.2.0/js/bootstrap.min.js%22%3E%3C/script%3E%0A%20%20%20%20%3Cscript%20src%3D%22https%3A//cdnjs.cloudflare.com/ajax/libs/Leaflet.awesome-markers/2.0.2/leaflet.awesome-markers.js%22%3E%3C/script%3E%0A%20%20%20%20%3Clink%20rel%3D%22stylesheet%22%20href%3D%22https%3A//cdn.jsdelivr.net/npm/leaflet%401.6.0/dist/leaflet.css%22/%3E%0A%20%20%20%20%3Clink%20rel%3D%22stylesheet%22%20href%3D%22https%3A//maxcdn.bootstrapcdn.com/bootstrap/3.2.0/css/bootstrap.min.css%22/%3E%0A%20%20%20%20%3Clink%20rel%3D%22stylesheet%22%20href%3D%22https%3A//maxcdn.bootstrapcdn.com/bootstrap/3.2.0/css/bootstrap-theme.min.css%22/%3E%0A%20%20%20%20%3Clink%20rel%3D%22stylesheet%22%20href%3D%22https%3A//maxcdn.bootstrapcdn.com/font-awesome/4.6.3/css/font-awesome.min.css%22/%3E%0A%20%20%20%20%3Clink%20rel%3D%22stylesheet%22%20href%3D%22https%3A//cdnjs.cloudflare.com/ajax/libs/Leaflet.awesome-markers/2.0.2/leaflet.awesome-markers.css%22/%3E%0A%20%20%20%20%3Clink%20rel%3D%22stylesheet%22%20href%3D%22https%3A//cdn.jsdelivr.net/gh/python-visualization/folium/folium/templates/leaflet.awesome.rotate.min.css%22/%3E%0A%20%20%20%20%0A%20%20%20%20%20%20%20%20%20%20%20%20%3Cmeta%20name%3D%22viewport%22%20content%3D%22width%3Ddevice-width%2C%0A%20%20%20%20%20%20%20%20%20%20%20%20%20%20%20%20initial-scale%3D1.0%2C%20maximum-scale%3D1.0%2C%20user-scalable%3Dno%22%20/%3E%0A%20%20%20%20%20%20%20%20%20%20%20%20%3Cstyle%3E%0A%20%20%20%20%20%20%20%20%20%20%20%20%20%20%20%20%23map_0a91f2602d04458a9eb2da03a352dcb1%20%7B%0A%20%20%20%20%20%20%20%20%20%20%20%20%20%20%20%20%20%20%20%20position%3A%20relative%3B%0A%20%20%20%20%20%20%20%20%20%20%20%20%20%20%20%20%20%20%20%20width%3A%20100.0%25%3B%0A%20%20%20%20%20%20%20%20%20%20%20%20%20%20%20%20%20%20%20%20height%3A%20100.0%25%3B%0A%20%20%20%20%20%20%20%20%20%20%20%20%20%20%20%20%20%20%20%20left%3A%200.0%25%3B%0A%20%20%20%20%20%20%20%20%20%20%20%20%20%20%20%20%20%20%20%20top%3A%200.0%25%3B%0A%20%20%20%20%20%20%20%20%20%20%20%20%20%20%20%20%7D%0A%20%20%20%20%20%20%20%20%20%20%20%20%3C/style%3E%0A%20%20%20%20%20%20%20%20%0A%3C/head%3E%0A%3Cbody%3E%20%20%20%20%0A%20%20%20%20%0A%20%20%20%20%20%20%20%20%20%20%20%20%3Cdiv%20class%3D%22folium-map%22%20id%3D%22map_0a91f2602d04458a9eb2da03a352dcb1%22%20%3E%3C/div%3E%0A%20%20%20%20%20%20%20%20%0A%3C/body%3E%0A%3Cscript%3E%20%20%20%20%0A%20%20%20%20%0A%20%20%20%20%20%20%20%20%20%20%20%20var%20map_0a91f2602d04458a9eb2da03a352dcb1%20%3D%20L.map%28%0A%20%20%20%20%20%20%20%20%20%20%20%20%20%20%20%20%22map_0a91f2602d04458a9eb2da03a352dcb1%22%2C%0A%20%20%20%20%20%20%20%20%20%20%20%20%20%20%20%20%7B%0A%20%20%20%20%20%20%20%20%20%20%20%20%20%20%20%20%20%20%20%20center%3A%20%5B20.0%2C%2020.0%5D%2C%0A%20%20%20%20%20%20%20%20%20%20%20%20%20%20%20%20%20%20%20%20crs%3A%20L.CRS.EPSG3857%2C%0A%20%20%20%20%20%20%20%20%20%20%20%20%20%20%20%20%20%20%20%20zoom%3A%2010%2C%0A%20%20%20%20%20%20%20%20%20%20%20%20%20%20%20%20%20%20%20%20zoomControl%3A%20true%2C%0A%20%20%20%20%20%20%20%20%20%20%20%20%20%20%20%20%20%20%20%20preferCanvas%3A%20false%2C%0A%20%20%20%20%20%20%20%20%20%20%20%20%20%20%20%20%7D%0A%20%20%20%20%20%20%20%20%20%20%20%20%29%3B%0A%0A%20%20%20%20%20%20%20%20%20%20%20%20%0A%0A%20%20%20%20%20%20%20%20%0A%20%20%20%20%0A%20%20%20%20%20%20%20%20%20%20%20%20var%20tile_layer_9c2de28d0bce4818a69b7337a90b0aef%20%3D%20L.tileLayer%28%0A%20%20%20%20%20%20%20%20%20%20%20%20%20%20%20%20%22https%3A//%7Bs%7D.tile.openstreetmap.org/%7Bz%7D/%7Bx%7D/%7By%7D.png%22%2C%0A%20%20%20%20%20%20%20%20%20%20%20%20%20%20%20%20%7B%22attribution%22%3A%20%22Data%20by%20%5Cu0026copy%3B%20%5Cu003ca%20href%3D%5C%22http%3A//openstreetmap.org%5C%22%5Cu003eOpenStreetMap%5Cu003c/a%5Cu003e%2C%20under%20%5Cu003ca%20href%3D%5C%22http%3A//www.openstreetmap.org/copyright%5C%22%5Cu003eODbL%5Cu003c/a%5Cu003e.%22%2C%20%22detectRetina%22%3A%20false%2C%20%22maxNativeZoom%22%3A%2018%2C%20%22maxZoom%22%3A%2018%2C%20%22minZoom%22%3A%200%2C%20%22noWrap%22%3A%20false%2C%20%22opacity%22%3A%201%2C%20%22subdomains%22%3A%20%22abc%22%2C%20%22tms%22%3A%20false%7D%0A%20%20%20%20%20%20%20%20%20%20%20%20%29.addTo%28map_0a91f2602d04458a9eb2da03a352dcb1%29%3B%0A%20%20%20%20%20%20%20%20%0A%20%20%20%20%0A%20%20%20%20%20%20%20%20%20%20%20%20var%20tile_layer_6643f3a65a234ea08e2e7fc084b1bc8e%20%3D%20L.tileLayer%28%0A%20%20%20%20%20%20%20%20%20%20%20%20%20%20%20%20%22https%3A//h9su0upami.execute-api.us-east-1.amazonaws.com/mosaicjson/mosaics/23ed9cd2-fc82-4261-bad2-d16417522ee6/tiles/%7Bz%7D/%7Bx%7D/%7By%7D%22%2C%0A%20%20%20%20%20%20%20%20%20%20%20%20%20%20%20%20%7B%22attribution%22%3A%20%22Sentinel-2%20L2A%22%2C%20%22detectRetina%22%3A%20false%2C%20%22maxNativeZoom%22%3A%2020%2C%20%22maxZoom%22%3A%2020%2C%20%22minZoom%22%3A%203%2C%20%22noWrap%22%3A%20false%2C%20%22opacity%22%3A%201%2C%20%22subdomains%22%3A%20%22abc%22%2C%20%22tms%22%3A%20false%7D%0A%20%20%20%20%20%20%20%20%20%20%20%20%29.addTo%28map_0a91f2602d04458a9eb2da03a352dcb1%29%3B%0A%20%20%20%20%20%20%20%20%0A%3C/script%3E onload=\"this.contentDocument.open();this.contentDocument.write(    decodeURIComponent(this.getAttribute('data-html')));this.contentDocument.close();\" allowfullscreen webkitallowfullscreen mozallowfullscreen></iframe></div></div>"
      ],
      "text/plain": [
       "<folium.folium.Map at 0x7fa92b9993a0>"
      ]
     },
     "execution_count": 17,
     "metadata": {},
     "output_type": "execute_result"
    }
   ],
   "source": [
    "m = folium.Map(\n",
    "    zoom_start=10,\n",
    "    location=[20, 20]\n",
    ")\n",
    "\n",
    "tile_layer = folium.TileLayer(\n",
    "    tiles=tiles_link,\n",
    "    min_zoom=3,\n",
    "    max_zoom=20,\n",
    "    opacity=1,\n",
    "    attr=\"Sentinel-2 L2A\"\n",
    ")\n",
    "tile_layer.add_to(m)\n",
    "\n",
    "m"
   ]
  },
  {
   "cell_type": "code",
   "execution_count": null,
   "id": "structured-toner",
   "metadata": {},
   "outputs": [],
   "source": []
  }
 ],
 "metadata": {
  "kernelspec": {
   "display_name": "Python 3",
   "language": "python",
   "name": "python3"
  },
  "language_info": {
   "codemirror_mode": {
    "name": "ipython",
    "version": 3
   },
   "file_extension": ".py",
   "mimetype": "text/x-python",
   "name": "python",
   "nbconvert_exporter": "python",
   "pygments_lexer": "ipython3",
   "version": "3.8.5"
  }
 },
 "nbformat": 4,
 "nbformat_minor": 5
}
