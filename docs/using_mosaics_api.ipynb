{
 "cells": [
  {
   "cell_type": "markdown",
   "id": "raising-asset",
   "metadata": {},
   "source": [
    "# Using the Mosaics Resource"
   ]
  },
  {
   "cell_type": "markdown",
   "id": "official-mirror",
   "metadata": {},
   "source": [
    "## Intro\n",
    "\n",
    "There are three ways to create a MosaicJSON:\n",
    "- provide a valid MosaicJSON body\n",
    "- provide a list of URIs to construct a MosaicJSON from\n",
    "- provide a STAC API endpoint and query, from which the results will be used to contruct a MosaicJSON"
   ]
  },
  {
   "cell_type": "code",
   "execution_count": 1,
   "id": "prime-withdrawal",
   "metadata": {},
   "outputs": [],
   "source": [
    "# Uncomment this line if you need to install the dependencies\n",
    "#!pip install requests folium"
   ]
  },
  {
   "cell_type": "code",
   "execution_count": 2,
   "id": "passive-jacket",
   "metadata": {},
   "outputs": [],
   "source": [
    "# imports and helper functions\n",
    "\n",
    "import requests\n",
    "import json\n",
    "import pprint\n",
    "import folium\n",
    "\n",
    "\n",
    "pp = pprint.PrettyPrinter(indent=2)\n",
    "\n",
    "def print_response(res):\n",
    "    print('HTTP/1.1 {status_code}\\n{headers}\\n\\n{body}'.format(\n",
    "        status_code=res.status_code,\n",
    "        headers='\\n'.join('{}: {}'.format(k, v) for k, v in res.headers.items()),\n",
    "        body=res.content,\n",
    "    ))\n",
    "    \n",
    "def print_request(req):\n",
    "    print('{}\\n{}\\r\\n{}\\r\\n\\r\\n{}'.format(\n",
    "        '-----------START-----------',\n",
    "        req.method + ' ' + req.url,\n",
    "        '\\r\\n'.join('{}: {}'.format(k, v) for k, v in req.headers.items()),\n",
    "        req.body,\n",
    "    ))"
   ]
  },
  {
   "cell_type": "markdown",
   "id": "hundred-provision",
   "metadata": {},
   "source": [
    "## Create with MosaicJSON\n",
    "\n",
    "Content-Type header is set to `application/vnd.mosaicjson+json`\n",
    "\n",
    "This is also the default behavior if the request Content-Type header is not set or is set to `application/json` or `application/json; charset=utf-8`."
   ]
  },
  {
   "cell_type": "markdown",
   "id": "bridal-foundation",
   "metadata": {},
   "source": [
    "Below is a MosaicJSON description as a dict. When constructing a MosaicJSON, it is preferable to use a library, such as [cogeo-mosaic](https://github.com/developmentseed/cogeo-mosaic)."
   ]
  },
  {
   "cell_type": "code",
   "execution_count": 3,
   "id": "agricultural-cargo",
   "metadata": {},
   "outputs": [],
   "source": [
    "mosaicjson_dict = {\n",
    "    \"mosaicjson\": \"0.0.2\",\n",
    "    \"name\": \"my_fabulous_mosaic\",\n",
    "    \"description\": \"A fabulous mosaic of the Sahara Desert in northern Chad\",\n",
    "    \"version\": \"1.0.0\",\n",
    "    \"attribution\": \"Contains modified Copernicus Sentinel data 2021\",  \n",
    "    \"minzoom\": 8,\n",
    "    \"maxzoom\": 14,\n",
    "    \"quadkey_zoom\": 8,\n",
    "    \"bounds\": [\n",
    "      19.066830301965645,\n",
    "      19.79785386241398,\n",
    "      21.2739508724601,\n",
    "      21.703408250526167\n",
    "    ],\n",
    "    \"center\": [\n",
    "      20.17039058721287,\n",
    "      20.750631056470073,\n",
    "      8\n",
    "    ],\n",
    "    \"tiles\": {\n",
    "      \"12221101\": [\n",
    "        \"https://sentinel-cogs.s3.us-west-2.amazonaws.com/sentinel-s2-l2a-cogs/34/Q/CH/2021/4/S2B_34QCH_20210420_0_L2A/TCI.tif\",\n",
    "        \"https://sentinel-cogs.s3.us-west-2.amazonaws.com/sentinel-s2-l2a-cogs/34/Q/CJ/2021/4/S2B_34QCJ_20210420_0_L2A/TCI.tif\"\n",
    "      ],\n",
    "      \"12221110\": [\n",
    "        \"https://sentinel-cogs.s3.us-west-2.amazonaws.com/sentinel-s2-l2a-cogs/34/Q/CH/2021/4/S2B_34QCH_20210420_0_L2A/TCI.tif\",\n",
    "        \"https://sentinel-cogs.s3.us-west-2.amazonaws.com/sentinel-s2-l2a-cogs/34/Q/DH/2021/4/S2B_34QDH_20210420_0_L2A/TCI.tif\",\n",
    "        \"https://sentinel-cogs.s3.us-west-2.amazonaws.com/sentinel-s2-l2a-cogs/34/Q/CJ/2021/4/S2B_34QCJ_20210420_0_L2A/TCI.tif\",\n",
    "        \"https://sentinel-cogs.s3.us-west-2.amazonaws.com/sentinel-s2-l2a-cogs/34/Q/DJ/2021/4/S2B_34QDJ_20210420_0_L2A/TCI.tif\",\n",
    "        \"https://sentinel-cogs.s3.us-west-2.amazonaws.com/sentinel-s2-l2a-cogs/34/Q/EJ/2021/4/S2B_34QEJ_20210420_0_L2A/TCI.tif\"\n",
    "      ],\n",
    "      \"12221111\": [\n",
    "        \"https://sentinel-cogs.s3.us-west-2.amazonaws.com/sentinel-s2-l2a-cogs/34/Q/DJ/2021/4/S2B_34QDJ_20210420_0_L2A/TCI.tif\",\n",
    "        \"https://sentinel-cogs.s3.us-west-2.amazonaws.com/sentinel-s2-l2a-cogs/34/Q/EJ/2021/4/S2B_34QEJ_20210420_0_L2A/TCI.tif\"\n",
    "      ],\n",
    "      \"12221103\": [\n",
    "        \"https://sentinel-cogs.s3.us-west-2.amazonaws.com/sentinel-s2-l2a-cogs/34/Q/CH/2021/4/S2B_34QCH_20210420_0_L2A/TCI.tif\"\n",
    "      ],\n",
    "      \"12221112\": [\n",
    "        \"https://sentinel-cogs.s3.us-west-2.amazonaws.com/sentinel-s2-l2a-cogs/34/Q/CH/2021/4/S2B_34QCH_20210420_0_L2A/TCI.tif\",\n",
    "        \"https://sentinel-cogs.s3.us-west-2.amazonaws.com/sentinel-s2-l2a-cogs/34/Q/DH/2021/4/S2B_34QDH_20210420_0_L2A/TCI.tif\"\n",
    "      ]\n",
    "    }\n",
    "}"
   ]
  },
  {
   "cell_type": "markdown",
   "id": "identical-shark",
   "metadata": {},
   "source": [
    "POST it, using the header `Content-Type: application/vnd.mosaicjson+json` that describes to the endpoint the data we're sending."
   ]
  },
  {
   "cell_type": "code",
   "execution_count": 4,
   "id": "polyphonic-belief",
   "metadata": {},
   "outputs": [],
   "source": [
    "res = requests.post(\n",
    "            url=\"http://localhost:8000/mosaicjson/mosaics\",\n",
    "            headers={\n",
    "                \"Content-Type\": \"application/vnd.titiler.mosaicjson+json\",\n",
    "            },\n",
    "            json=mosaicjson_dict)"
   ]
  },
  {
   "cell_type": "markdown",
   "id": "equal-chrome",
   "metadata": {},
   "source": [
    "The response body is the same for all responses, and will be described later, particularly the available link relations."
   ]
  },
  {
   "cell_type": "code",
   "execution_count": 5,
   "id": "patient-monday",
   "metadata": {},
   "outputs": [
    {
     "name": "stdout",
     "output_type": "stream",
     "text": [
      "Response:\n",
      "{ 'id': 'd9ba7c81-4be8-492c-94e3-64b7c55bed73',\n",
      "  'links': [ { 'href': 'http://localhost:8000/mosaicjson/mosaics/d9ba7c81-4be8-492c-94e3-64b7c55bed73',\n",
      "               'rel': 'self',\n",
      "               'title': 'Self',\n",
      "               'type': 'application/json'},\n",
      "             { 'href': 'http://localhost:8000/mosaicjson/mosaics/d9ba7c81-4be8-492c-94e3-64b7c55bed73/mosaicjson',\n",
      "               'rel': 'mosaicjson',\n",
      "               'title': 'MosiacJSON',\n",
      "               'type': 'application/vnd.titiler.mosaicjson+json'},\n",
      "             { 'href': 'http://localhost:8000/mosaicjson/mosaics/d9ba7c81-4be8-492c-94e3-64b7c55bed73/tilejson.json',\n",
      "               'rel': 'tilejson',\n",
      "               'title': 'TileJSON',\n",
      "               'type': 'application/json'},\n",
      "             { 'href': 'http://localhost:8000/mosaicjson/tiles/{z}/{x}/{y}@1x?url=http://localhost:8000/mosaicjson/mosaics/d9ba7c81-4be8-492c-94e3-64b7c55bed73/mosaicjson',\n",
      "               'rel': 'tiles',\n",
      "               'title': 'Tiles Endpoint',\n",
      "               'type': 'application/json'}],\n",
      "  'mosaicjson': { 'attribution': 'Contains modified Copernicus Sentinel data '\n",
      "                                 '2021',\n",
      "                  'bounds': [ 19.066830301965645,\n",
      "                              19.79785386241398,\n",
      "                              21.2739508724601,\n",
      "                              21.703408250526167],\n",
      "                  'center': [20.17039058721287, 20.750631056470073, 8],\n",
      "                  'description': 'A fabulous mosaic of the Sahara Desert in '\n",
      "                                 'northern Chad',\n",
      "                  'maxzoom': 14,\n",
      "                  'minzoom': 8,\n",
      "                  'mosaicjson': '0.0.2',\n",
      "                  'name': 'my_fabulous_mosaic',\n",
      "                  'quadkey_zoom': 8,\n",
      "                  'tiles': { '12221101': [ 'https://sentinel-cogs.s3.us-west-2.amazonaws.com/sentinel-s2-l2a-cogs/34/Q/CH/2021/4/S2B_34QCH_20210420_0_L2A/TCI.tif',\n",
      "                                           'https://sentinel-cogs.s3.us-west-2.amazonaws.com/sentinel-s2-l2a-cogs/34/Q/CJ/2021/4/S2B_34QCJ_20210420_0_L2A/TCI.tif'],\n",
      "                             '12221103': [ 'https://sentinel-cogs.s3.us-west-2.amazonaws.com/sentinel-s2-l2a-cogs/34/Q/CH/2021/4/S2B_34QCH_20210420_0_L2A/TCI.tif'],\n",
      "                             '12221110': [ 'https://sentinel-cogs.s3.us-west-2.amazonaws.com/sentinel-s2-l2a-cogs/34/Q/CH/2021/4/S2B_34QCH_20210420_0_L2A/TCI.tif',\n",
      "                                           'https://sentinel-cogs.s3.us-west-2.amazonaws.com/sentinel-s2-l2a-cogs/34/Q/DH/2021/4/S2B_34QDH_20210420_0_L2A/TCI.tif',\n",
      "                                           'https://sentinel-cogs.s3.us-west-2.amazonaws.com/sentinel-s2-l2a-cogs/34/Q/CJ/2021/4/S2B_34QCJ_20210420_0_L2A/TCI.tif',\n",
      "                                           'https://sentinel-cogs.s3.us-west-2.amazonaws.com/sentinel-s2-l2a-cogs/34/Q/DJ/2021/4/S2B_34QDJ_20210420_0_L2A/TCI.tif',\n",
      "                                           'https://sentinel-cogs.s3.us-west-2.amazonaws.com/sentinel-s2-l2a-cogs/34/Q/EJ/2021/4/S2B_34QEJ_20210420_0_L2A/TCI.tif'],\n",
      "                             '12221111': [ 'https://sentinel-cogs.s3.us-west-2.amazonaws.com/sentinel-s2-l2a-cogs/34/Q/DJ/2021/4/S2B_34QDJ_20210420_0_L2A/TCI.tif',\n",
      "                                           'https://sentinel-cogs.s3.us-west-2.amazonaws.com/sentinel-s2-l2a-cogs/34/Q/EJ/2021/4/S2B_34QEJ_20210420_0_L2A/TCI.tif'],\n",
      "                             '12221112': [ 'https://sentinel-cogs.s3.us-west-2.amazonaws.com/sentinel-s2-l2a-cogs/34/Q/CH/2021/4/S2B_34QCH_20210420_0_L2A/TCI.tif',\n",
      "                                           'https://sentinel-cogs.s3.us-west-2.amazonaws.com/sentinel-s2-l2a-cogs/34/Q/DH/2021/4/S2B_34QDH_20210420_0_L2A/TCI.tif']},\n",
      "                  'version': '1.0.0'}}\n"
     ]
    }
   ],
   "source": [
    "print(\"Response:\")\n",
    "pp.pprint(res.json())"
   ]
  },
  {
   "cell_type": "markdown",
   "id": "external-middle",
   "metadata": {},
   "source": [
    "## Create with list of URLs\n",
    "\n",
    "- **urls** - the root endpoint (Landing Page) for the STAC API. Required, no default.\n",
    "- **name** - the name field for the resulting MosaicJSON entity. Defaults to `null`.\n",
    "- **description** - the description field for the resulting MosaicJSON entity. Defaults to `null`.\n",
    "- **attribution** - the attribution field for the resulting MosaicJSON entity. Defaults to `null`.\n",
    "- **minzoom** - the forced minimum zoom for the mosaic.\n",
    "- **maxzoom** - the forced maximum zoom for the mosaic."
   ]
  },
  {
   "cell_type": "code",
   "execution_count": 6,
   "id": "palestinian-pocket",
   "metadata": {},
   "outputs": [],
   "source": [
    "res = requests.post(\n",
    "        url=\"http://localhost:8000/mosaicjson/mosaics\",\n",
    "        headers={\n",
    "            \"Content-Type\": \"application/vnd.titiler.urls+json\",\n",
    "        },\n",
    "        json={ \n",
    "                \"name\": \"my_fabulous_mosaic\",\n",
    "                \"description\": \"A fabulous mosaic of the Sahara Desert in northern Chad\",\n",
    "                \"attribution\": \"Contains modified Copernicus Sentinel data 2021\",  \n",
    "                \"urls\": [\n",
    "        \"https://sentinel-cogs.s3.us-west-2.amazonaws.com/sentinel-s2-l2a-cogs/34/Q/CH/2021/4/S2B_34QCH_20210420_0_L2A/TCI.tif\"\n",
    "        \"https://sentinel-cogs.s3.us-west-2.amazonaws.com/sentinel-s2-l2a-cogs/34/Q/CH/2021/4/S2B_34QCH_20210420_0_L2A/TCI.tif\",\n",
    "        \"https://sentinel-cogs.s3.us-west-2.amazonaws.com/sentinel-s2-l2a-cogs/34/Q/CJ/2021/4/S2B_34QCJ_20210420_0_L2A/TCI.tif\"\n",
    "        \"https://sentinel-cogs.s3.us-west-2.amazonaws.com/sentinel-s2-l2a-cogs/34/Q/CJ/2021/4/S2B_34QCJ_20210420_0_L2A/TCI.tif\",\n",
    "        \"https://sentinel-cogs.s3.us-west-2.amazonaws.com/sentinel-s2-l2a-cogs/34/Q/DH/2021/4/S2B_34QDH_20210420_0_L2A/TCI.tif\"\n",
    "        \"https://sentinel-cogs.s3.us-west-2.amazonaws.com/sentinel-s2-l2a-cogs/34/Q/DH/2021/4/S2B_34QDH_20210420_0_L2A/TCI.tif\",\n",
    "        \"https://sentinel-cogs.s3.us-west-2.amazonaws.com/sentinel-s2-l2a-cogs/34/Q/DJ/2021/4/S2B_34QDJ_20210420_0_L2A/TCI.tif\",\n",
    "        \"https://sentinel-cogs.s3.us-west-2.amazonaws.com/sentinel-s2-l2a-cogs/34/Q/EJ/2021/4/S2B_34QEJ_20210420_0_L2A/TCI.tif\"\n",
    "               ],\n",
    "                \"minzoom\": \"3\",\n",
    "                \"maxzoom\": \"20\"\n",
    "        }\n",
    "    )"
   ]
  },
  {
   "cell_type": "code",
   "execution_count": 7,
   "id": "billion-divorce",
   "metadata": {},
   "outputs": [
    {
     "name": "stdout",
     "output_type": "stream",
     "text": [
      "Response:\n",
      "{ 'id': 'be9142bf-7da3-43e7-854f-7c641f2ca924',\n",
      "  'links': [ { 'href': 'http://localhost:8000/mosaicjson/mosaics/be9142bf-7da3-43e7-854f-7c641f2ca924',\n",
      "               'rel': 'self',\n",
      "               'title': 'Self',\n",
      "               'type': 'application/json'},\n",
      "             { 'href': 'http://localhost:8000/mosaicjson/mosaics/be9142bf-7da3-43e7-854f-7c641f2ca924/mosaicjson',\n",
      "               'rel': 'mosaicjson',\n",
      "               'title': 'MosiacJSON',\n",
      "               'type': 'application/vnd.titiler.mosaicjson+json'},\n",
      "             { 'href': 'http://localhost:8000/mosaicjson/mosaics/be9142bf-7da3-43e7-854f-7c641f2ca924/tilejson.json',\n",
      "               'rel': 'tilejson',\n",
      "               'title': 'TileJSON',\n",
      "               'type': 'application/json'},\n",
      "             { 'href': 'http://localhost:8000/mosaicjson/tiles/{z}/{x}/{y}@1x?url=http://localhost:8000/mosaicjson/mosaics/be9142bf-7da3-43e7-854f-7c641f2ca924/mosaicjson',\n",
      "               'rel': 'tiles',\n",
      "               'title': 'Tiles Endpoint',\n",
      "               'type': 'application/json'}],\n",
      "  'mosaicjson': { 'attribution': 'Contains modified Copernicus Sentinel data '\n",
      "                                 '2021',\n",
      "                  'bounds': [ 20.03286652659197,\n",
      "                              20.708100257539456,\n",
      "                              22.061282859407882,\n",
      "                              21.703417285407753],\n",
      "                  'center': [21.047074692999928, 21.205758771473604, 3],\n",
      "                  'description': 'A fabulous mosaic of the Sahara Desert in '\n",
      "                                 'northern Chad',\n",
      "                  'maxzoom': 20,\n",
      "                  'minzoom': 3,\n",
      "                  'mosaicjson': '0.0.2',\n",
      "                  'name': 'my_fabulous_mosaic',\n",
      "                  'quadkey_zoom': 3,\n",
      "                  'tiles': { '122': [ 'https://sentinel-cogs.s3.us-west-2.amazonaws.com/sentinel-s2-l2a-cogs/34/Q/DJ/2021/4/S2B_34QDJ_20210420_0_L2A/TCI.tif',\n",
      "                                      'https://sentinel-cogs.s3.us-west-2.amazonaws.com/sentinel-s2-l2a-cogs/34/Q/EJ/2021/4/S2B_34QEJ_20210420_0_L2A/TCI.tif']},\n",
      "                  'version': '1.0.0'}}\n"
     ]
    }
   ],
   "source": [
    "print(\"Response:\")\n",
    "pp.pprint(res.json())"
   ]
  },
  {
   "cell_type": "markdown",
   "id": "fatty-visitor",
   "metadata": {},
   "source": [
    "## Create with STAC API query\n",
    "\n",
    "This is the same body that would be POST'ed to the STAC API Item Search endpoint (`/search`), with the addition of these fields:\n",
    "\n",
    "- **stac_api_root** - the root endpoint (Landing Page) for the STAC API. Required, no default.\n",
    "- **name** - the name field for the resulting MosaicJSON entity. Defaults to `null`.\n",
    "- **description** - the description field for the resulting MosaicJSON entity. Defaults to `null`.\n",
    "- **attribution** - the attribution field for the resulting MosaicJSON entity. Defaults to `null`.\n",
    "- **asset_name** - the name of the asset in each STAC Item to use for the mosaic. Defaults to `visual`."
   ]
  },
  {
   "cell_type": "code",
   "execution_count": 16,
   "id": "roman-palestinian",
   "metadata": {},
   "outputs": [],
   "source": [
    "res = requests.post(\n",
    "        url=\"http://localhost:8000/mosaicjson/mosaics\",\n",
    "        headers={\n",
    "            \"Content-Type\": \"application/vnd.titiler.stac-api-query+json\",\n",
    "        },\n",
    "        json={\n",
    "  \"stac_api_root\": \"https://earth-search.aws.element84.com/v0\",\n",
    "  \"name\": \"foo\",\n",
    "  \"description\": \"bar\",\n",
    "  \"attribution\": \"shmattribution\",\n",
    "  \"asset_name\": \"visual\",\n",
    "  \"collections\": [\n",
    "    \"sentinel-s2-l2a-cogs\"\n",
    "  ],\n",
    "  \"datetime\": \"2021-04-20T00:00:00Z/2021-04-21T02:00:00Z\",\n",
    "  \"bbox\": [\n",
    "    20,\n",
    "    20,\n",
    "    21,\n",
    "    21\n",
    "  ]\n",
    "}\n",
    "    )"
   ]
  },
  {
   "cell_type": "code",
   "execution_count": 17,
   "id": "behind-avenue",
   "metadata": {},
   "outputs": [
    {
     "name": "stdout",
     "output_type": "stream",
     "text": [
      "Response:\n",
      "{ 'id': 'c27fccd9-ae90-4a2e-ac00-719c5e02f671',\n",
      "  'links': [ { 'href': 'http://localhost:8000/mosaicjson/mosaics/c27fccd9-ae90-4a2e-ac00-719c5e02f671',\n",
      "               'rel': 'self',\n",
      "               'title': 'Self',\n",
      "               'type': 'application/json'},\n",
      "             { 'href': 'http://localhost:8000/mosaicjson/mosaics/c27fccd9-ae90-4a2e-ac00-719c5e02f671/mosaicjson',\n",
      "               'rel': 'mosaicjson',\n",
      "               'title': 'MosiacJSON',\n",
      "               'type': 'application/vnd.titiler.mosaicjson+json'},\n",
      "             { 'href': 'http://localhost:8000/mosaicjson/mosaics/c27fccd9-ae90-4a2e-ac00-719c5e02f671/tilejson.json',\n",
      "               'rel': 'tilejson',\n",
      "               'title': 'TileJSON',\n",
      "               'type': 'application/json'},\n",
      "             { 'href': 'http://localhost:8000/mosaicjson/tiles/{z}/{x}/{y}@1x?url=http://localhost:8000/mosaicjson/mosaics/c27fccd9-ae90-4a2e-ac00-719c5e02f671/mosaicjson',\n",
      "               'rel': 'tiles',\n",
      "               'title': 'Tiles Endpoint',\n",
      "               'type': 'application/json'},\n",
      "             { 'href': 'http://localhost:8000/mosaicjson/tiles/{z}/{x}/{y}?url=http://localhost:8000/mosaicjson/mosaics/c27fccd9-ae90-4a2e-ac00-719c5e02f671/mosaicjson',\n",
      "               'rel': 'tiles-zxy',\n",
      "               'title': 'Tiles Endpoint /{z}/{x}/{y}',\n",
      "               'type': 'application/json'},\n",
      "             { 'href': 'http://localhost:8000/mosaicjson/tiles/{z}/{x}/{y}.{format}?url=http://localhost:8000/mosaicjson/mosaics/c27fccd9-ae90-4a2e-ac00-719c5e02f671/mosaicjson',\n",
      "               'rel': 'tiles-zxy-format',\n",
      "               'title': 'Tiles Endpoint /{z}/{x}/{y}.{format}',\n",
      "               'type': 'application/json'},\n",
      "             { 'href': 'http://localhost:8000/mosaicjson/tiles/{z}/{x}/{y}@{scale}x?url=http://localhost:8000/mosaicjson/mosaics/c27fccd9-ae90-4a2e-ac00-719c5e02f671/mosaicjson',\n",
      "               'rel': 'tiles-zxy-scale',\n",
      "               'title': 'Tiles Endpoint /{z}/{x}/{y}@{scale}x',\n",
      "               'type': 'application/json'},\n",
      "             { 'href': 'http://localhost:8000/mosaicjson/tiles/{z}/{x}/{y}@{scale}x.{format}?url=http://localhost:8000/mosaicjson/mosaics/c27fccd9-ae90-4a2e-ac00-719c5e02f671/mosaicjson',\n",
      "               'rel': 'tiles-zxy-scale-format',\n",
      "               'title': 'Tiles Endpoint /{z}/{x}/{y}@{scale}x.{format}',\n",
      "               'type': 'application/json'}],\n",
      "  'mosaicjson': { 'attribution': 'shmattribution',\n",
      "                  'bounds': [ 19.066830301965645,\n",
      "                              19.79785386241398,\n",
      "                              21.2739508724601,\n",
      "                              21.703408250526167],\n",
      "                  'center': [20.17039058721287, 20.750631056470073, 8],\n",
      "                  'description': 'bar',\n",
      "                  'maxzoom': 14,\n",
      "                  'minzoom': 8,\n",
      "                  'mosaicjson': '0.0.2',\n",
      "                  'name': 'foo',\n",
      "                  'quadkey_zoom': 8,\n",
      "                  'tiles': { '12221101': [ 'https://sentinel-cogs.s3.us-west-2.amazonaws.com/sentinel-s2-l2a-cogs/34/Q/CH/2021/4/S2B_34QCH_20210420_0_L2A/TCI.tif',\n",
      "                                           'https://sentinel-cogs.s3.us-west-2.amazonaws.com/sentinel-s2-l2a-cogs/34/Q/CJ/2021/4/S2B_34QCJ_20210420_0_L2A/TCI.tif'],\n",
      "                             '12221103': [ 'https://sentinel-cogs.s3.us-west-2.amazonaws.com/sentinel-s2-l2a-cogs/34/Q/CH/2021/4/S2B_34QCH_20210420_0_L2A/TCI.tif'],\n",
      "                             '12221110': [ 'https://sentinel-cogs.s3.us-west-2.amazonaws.com/sentinel-s2-l2a-cogs/34/Q/CH/2021/4/S2B_34QCH_20210420_0_L2A/TCI.tif',\n",
      "                                           'https://sentinel-cogs.s3.us-west-2.amazonaws.com/sentinel-s2-l2a-cogs/34/Q/DH/2021/4/S2B_34QDH_20210420_0_L2A/TCI.tif',\n",
      "                                           'https://sentinel-cogs.s3.us-west-2.amazonaws.com/sentinel-s2-l2a-cogs/34/Q/CJ/2021/4/S2B_34QCJ_20210420_0_L2A/TCI.tif',\n",
      "                                           'https://sentinel-cogs.s3.us-west-2.amazonaws.com/sentinel-s2-l2a-cogs/34/Q/DJ/2021/4/S2B_34QDJ_20210420_0_L2A/TCI.tif',\n",
      "                                           'https://sentinel-cogs.s3.us-west-2.amazonaws.com/sentinel-s2-l2a-cogs/34/Q/EJ/2021/4/S2B_34QEJ_20210420_0_L2A/TCI.tif'],\n",
      "                             '12221111': [ 'https://sentinel-cogs.s3.us-west-2.amazonaws.com/sentinel-s2-l2a-cogs/34/Q/DJ/2021/4/S2B_34QDJ_20210420_0_L2A/TCI.tif',\n",
      "                                           'https://sentinel-cogs.s3.us-west-2.amazonaws.com/sentinel-s2-l2a-cogs/34/Q/EJ/2021/4/S2B_34QEJ_20210420_0_L2A/TCI.tif'],\n",
      "                             '12221112': [ 'https://sentinel-cogs.s3.us-west-2.amazonaws.com/sentinel-s2-l2a-cogs/34/Q/CH/2021/4/S2B_34QCH_20210420_0_L2A/TCI.tif',\n",
      "                                           'https://sentinel-cogs.s3.us-west-2.amazonaws.com/sentinel-s2-l2a-cogs/34/Q/DH/2021/4/S2B_34QDH_20210420_0_L2A/TCI.tif']},\n",
      "                  'version': '1.0.0'}}\n"
     ]
    }
   ],
   "source": [
    "response_body = res.json()\n",
    "\n",
    "print(\"Response:\")\n",
    "pp.pprint(response_body)"
   ]
  },
  {
   "cell_type": "markdown",
   "id": "white-hierarchy",
   "metadata": {},
   "source": [
    "The `Location` header in the response contains the URI of the newly-created Mosaic resource:"
   ]
  },
  {
   "cell_type": "code",
   "execution_count": 18,
   "id": "antique-agenda",
   "metadata": {},
   "outputs": [
    {
     "name": "stdout",
     "output_type": "stream",
     "text": [
      "http://localhost:8000/mosaicjson/mosaics/c27fccd9-ae90-4a2e-ac00-719c5e02f671\n"
     ]
    }
   ],
   "source": [
    "location_header_url = res.headers[\"location\"]\n",
    "print(location_header_url)"
   ]
  },
  {
   "cell_type": "code",
   "execution_count": 19,
   "id": "parliamentary-evening",
   "metadata": {},
   "outputs": [
    {
     "name": "stdout",
     "output_type": "stream",
     "text": [
      "self href: http://localhost:8000/mosaicjson/mosaics/c27fccd9-ae90-4a2e-ac00-719c5e02f671\n"
     ]
    }
   ],
   "source": [
    "self_link = next((x[\"href\"] for x in response_body[\"links\"] if x[\"rel\"] == \"self\"), None)\n",
    "print(f\"self href: {self_link}\")"
   ]
  },
  {
   "cell_type": "code",
   "execution_count": 20,
   "id": "detected-outdoors",
   "metadata": {},
   "outputs": [
    {
     "name": "stdout",
     "output_type": "stream",
     "text": [
      "tilejson href: http://localhost:8000/mosaicjson/mosaics/c27fccd9-ae90-4a2e-ac00-719c5e02f671/tilejson.json\n"
     ]
    }
   ],
   "source": [
    "tilejson_link = next((x[\"href\"] for x in response_body[\"links\"] if x[\"rel\"] == \"tilejson\"), None)\n",
    "print(f\"tilejson href: {tilejson_link}\")"
   ]
  },
  {
   "cell_type": "code",
   "execution_count": 21,
   "id": "latest-modeling",
   "metadata": {},
   "outputs": [
    {
     "name": "stdout",
     "output_type": "stream",
     "text": [
      "mosaicjson href: http://localhost:8000/mosaicjson/mosaics/c27fccd9-ae90-4a2e-ac00-719c5e02f671/mosaicjson\n"
     ]
    }
   ],
   "source": [
    "mosaicjson_link = next((x[\"href\"] for x in response_body[\"links\"] if x[\"rel\"] == \"mosaicjson\"), None)\n",
    "print(f\"mosaicjson href: {mosaicjson_link}\")\n"
   ]
  },
  {
   "cell_type": "code",
   "execution_count": 22,
   "id": "stretch-action",
   "metadata": {},
   "outputs": [
    {
     "name": "stdout",
     "output_type": "stream",
     "text": [
      "tiles href: http://localhost:8000/mosaicjson/tiles/{z}/{x}/{y}@1x?url=http://localhost:8000/mosaicjson/mosaics/c27fccd9-ae90-4a2e-ac00-719c5e02f671/mosaicjson\n"
     ]
    }
   ],
   "source": [
    "tiles_link = next((x[\"href\"] for x in response_body[\"links\"] if x[\"rel\"] == \"tiles\"), None)\n",
    "print(f\"tiles href: {tiles_link}\")\n"
   ]
  },
  {
   "cell_type": "code",
   "execution_count": 23,
   "id": "substantial-briefs",
   "metadata": {},
   "outputs": [
    {
     "data": {
      "text/html": [
       "<div style=\"width:100%;\"><div style=\"position:relative;width:100%;height:0;padding-bottom:60%;\"><span style=\"color:#565656\">Make this Notebook Trusted to load map: File -> Trust Notebook</span><iframe src=\"about:blank\" style=\"position:absolute;width:100%;height:100%;left:0;top:0;border:none !important;\" data-html=%3C%21DOCTYPE%20html%3E%0A%3Chead%3E%20%20%20%20%0A%20%20%20%20%3Cmeta%20http-equiv%3D%22content-type%22%20content%3D%22text/html%3B%20charset%3DUTF-8%22%20/%3E%0A%20%20%20%20%0A%20%20%20%20%20%20%20%20%3Cscript%3E%0A%20%20%20%20%20%20%20%20%20%20%20%20L_NO_TOUCH%20%3D%20false%3B%0A%20%20%20%20%20%20%20%20%20%20%20%20L_DISABLE_3D%20%3D%20false%3B%0A%20%20%20%20%20%20%20%20%3C/script%3E%0A%20%20%20%20%0A%20%20%20%20%3Cstyle%3Ehtml%2C%20body%20%7Bwidth%3A%20100%25%3Bheight%3A%20100%25%3Bmargin%3A%200%3Bpadding%3A%200%3B%7D%3C/style%3E%0A%20%20%20%20%3Cstyle%3E%23map%20%7Bposition%3Aabsolute%3Btop%3A0%3Bbottom%3A0%3Bright%3A0%3Bleft%3A0%3B%7D%3C/style%3E%0A%20%20%20%20%3Cscript%20src%3D%22https%3A//cdn.jsdelivr.net/npm/leaflet%401.6.0/dist/leaflet.js%22%3E%3C/script%3E%0A%20%20%20%20%3Cscript%20src%3D%22https%3A//code.jquery.com/jquery-1.12.4.min.js%22%3E%3C/script%3E%0A%20%20%20%20%3Cscript%20src%3D%22https%3A//maxcdn.bootstrapcdn.com/bootstrap/3.2.0/js/bootstrap.min.js%22%3E%3C/script%3E%0A%20%20%20%20%3Cscript%20src%3D%22https%3A//cdnjs.cloudflare.com/ajax/libs/Leaflet.awesome-markers/2.0.2/leaflet.awesome-markers.js%22%3E%3C/script%3E%0A%20%20%20%20%3Clink%20rel%3D%22stylesheet%22%20href%3D%22https%3A//cdn.jsdelivr.net/npm/leaflet%401.6.0/dist/leaflet.css%22/%3E%0A%20%20%20%20%3Clink%20rel%3D%22stylesheet%22%20href%3D%22https%3A//maxcdn.bootstrapcdn.com/bootstrap/3.2.0/css/bootstrap.min.css%22/%3E%0A%20%20%20%20%3Clink%20rel%3D%22stylesheet%22%20href%3D%22https%3A//maxcdn.bootstrapcdn.com/bootstrap/3.2.0/css/bootstrap-theme.min.css%22/%3E%0A%20%20%20%20%3Clink%20rel%3D%22stylesheet%22%20href%3D%22https%3A//maxcdn.bootstrapcdn.com/font-awesome/4.6.3/css/font-awesome.min.css%22/%3E%0A%20%20%20%20%3Clink%20rel%3D%22stylesheet%22%20href%3D%22https%3A//cdnjs.cloudflare.com/ajax/libs/Leaflet.awesome-markers/2.0.2/leaflet.awesome-markers.css%22/%3E%0A%20%20%20%20%3Clink%20rel%3D%22stylesheet%22%20href%3D%22https%3A//cdn.jsdelivr.net/gh/python-visualization/folium/folium/templates/leaflet.awesome.rotate.min.css%22/%3E%0A%20%20%20%20%0A%20%20%20%20%20%20%20%20%20%20%20%20%3Cmeta%20name%3D%22viewport%22%20content%3D%22width%3Ddevice-width%2C%0A%20%20%20%20%20%20%20%20%20%20%20%20%20%20%20%20initial-scale%3D1.0%2C%20maximum-scale%3D1.0%2C%20user-scalable%3Dno%22%20/%3E%0A%20%20%20%20%20%20%20%20%20%20%20%20%3Cstyle%3E%0A%20%20%20%20%20%20%20%20%20%20%20%20%20%20%20%20%23map_a11cd14cb7ac4c81a944ad3562788ae3%20%7B%0A%20%20%20%20%20%20%20%20%20%20%20%20%20%20%20%20%20%20%20%20position%3A%20relative%3B%0A%20%20%20%20%20%20%20%20%20%20%20%20%20%20%20%20%20%20%20%20width%3A%20100.0%25%3B%0A%20%20%20%20%20%20%20%20%20%20%20%20%20%20%20%20%20%20%20%20height%3A%20100.0%25%3B%0A%20%20%20%20%20%20%20%20%20%20%20%20%20%20%20%20%20%20%20%20left%3A%200.0%25%3B%0A%20%20%20%20%20%20%20%20%20%20%20%20%20%20%20%20%20%20%20%20top%3A%200.0%25%3B%0A%20%20%20%20%20%20%20%20%20%20%20%20%20%20%20%20%7D%0A%20%20%20%20%20%20%20%20%20%20%20%20%3C/style%3E%0A%20%20%20%20%20%20%20%20%0A%3C/head%3E%0A%3Cbody%3E%20%20%20%20%0A%20%20%20%20%0A%20%20%20%20%20%20%20%20%20%20%20%20%3Cdiv%20class%3D%22folium-map%22%20id%3D%22map_a11cd14cb7ac4c81a944ad3562788ae3%22%20%3E%3C/div%3E%0A%20%20%20%20%20%20%20%20%0A%3C/body%3E%0A%3Cscript%3E%20%20%20%20%0A%20%20%20%20%0A%20%20%20%20%20%20%20%20%20%20%20%20var%20map_a11cd14cb7ac4c81a944ad3562788ae3%20%3D%20L.map%28%0A%20%20%20%20%20%20%20%20%20%20%20%20%20%20%20%20%22map_a11cd14cb7ac4c81a944ad3562788ae3%22%2C%0A%20%20%20%20%20%20%20%20%20%20%20%20%20%20%20%20%7B%0A%20%20%20%20%20%20%20%20%20%20%20%20%20%20%20%20%20%20%20%20center%3A%20%5B20.0%2C%2020.0%5D%2C%0A%20%20%20%20%20%20%20%20%20%20%20%20%20%20%20%20%20%20%20%20crs%3A%20L.CRS.EPSG3857%2C%0A%20%20%20%20%20%20%20%20%20%20%20%20%20%20%20%20%20%20%20%20zoom%3A%2010%2C%0A%20%20%20%20%20%20%20%20%20%20%20%20%20%20%20%20%20%20%20%20zoomControl%3A%20true%2C%0A%20%20%20%20%20%20%20%20%20%20%20%20%20%20%20%20%20%20%20%20preferCanvas%3A%20false%2C%0A%20%20%20%20%20%20%20%20%20%20%20%20%20%20%20%20%7D%0A%20%20%20%20%20%20%20%20%20%20%20%20%29%3B%0A%0A%20%20%20%20%20%20%20%20%20%20%20%20%0A%0A%20%20%20%20%20%20%20%20%0A%20%20%20%20%0A%20%20%20%20%20%20%20%20%20%20%20%20var%20tile_layer_9d8ec6cc013245fcb96640c11177dfa8%20%3D%20L.tileLayer%28%0A%20%20%20%20%20%20%20%20%20%20%20%20%20%20%20%20%22https%3A//%7Bs%7D.tile.openstreetmap.org/%7Bz%7D/%7Bx%7D/%7By%7D.png%22%2C%0A%20%20%20%20%20%20%20%20%20%20%20%20%20%20%20%20%7B%22attribution%22%3A%20%22Data%20by%20%5Cu0026copy%3B%20%5Cu003ca%20href%3D%5C%22http%3A//openstreetmap.org%5C%22%5Cu003eOpenStreetMap%5Cu003c/a%5Cu003e%2C%20under%20%5Cu003ca%20href%3D%5C%22http%3A//www.openstreetmap.org/copyright%5C%22%5Cu003eODbL%5Cu003c/a%5Cu003e.%22%2C%20%22detectRetina%22%3A%20false%2C%20%22maxNativeZoom%22%3A%2018%2C%20%22maxZoom%22%3A%2018%2C%20%22minZoom%22%3A%200%2C%20%22noWrap%22%3A%20false%2C%20%22opacity%22%3A%201%2C%20%22subdomains%22%3A%20%22abc%22%2C%20%22tms%22%3A%20false%7D%0A%20%20%20%20%20%20%20%20%20%20%20%20%29.addTo%28map_a11cd14cb7ac4c81a944ad3562788ae3%29%3B%0A%20%20%20%20%20%20%20%20%0A%20%20%20%20%0A%20%20%20%20%20%20%20%20%20%20%20%20var%20tile_layer_65824afe356c4b5daa0d1049a540fb85%20%3D%20L.tileLayer%28%0A%20%20%20%20%20%20%20%20%20%20%20%20%20%20%20%20%22http%3A//localhost%3A8000/mosaicjson/tiles/%7Bz%7D/%7Bx%7D/%7By%7D%401x%3Furl%3Dhttp%3A//localhost%3A8000/mosaicjson/mosaics/c27fccd9-ae90-4a2e-ac00-719c5e02f671/mosaicjson%22%2C%0A%20%20%20%20%20%20%20%20%20%20%20%20%20%20%20%20%7B%22attribution%22%3A%20%22Sentinel-2%20L2A%22%2C%20%22detectRetina%22%3A%20false%2C%20%22maxNativeZoom%22%3A%2020%2C%20%22maxZoom%22%3A%2020%2C%20%22minZoom%22%3A%203%2C%20%22noWrap%22%3A%20false%2C%20%22opacity%22%3A%201%2C%20%22subdomains%22%3A%20%22abc%22%2C%20%22tms%22%3A%20false%7D%0A%20%20%20%20%20%20%20%20%20%20%20%20%29.addTo%28map_a11cd14cb7ac4c81a944ad3562788ae3%29%3B%0A%20%20%20%20%20%20%20%20%0A%3C/script%3E onload=\"this.contentDocument.open();this.contentDocument.write(    decodeURIComponent(this.getAttribute('data-html')));this.contentDocument.close();\" allowfullscreen webkitallowfullscreen mozallowfullscreen></iframe></div></div>"
      ],
      "text/plain": [
       "<folium.folium.Map at 0x7fd3bb25a070>"
      ]
     },
     "execution_count": 23,
     "metadata": {},
     "output_type": "execute_result"
    }
   ],
   "source": [
    "# tilejson = requests.get(tilejson_link).json()\n",
    "\n",
    "# print(tilejson)\n",
    "\n",
    "m = folium.Map(\n",
    "    zoom_start=10,\n",
    "    location=[20, 20]\n",
    ")\n",
    "\n",
    "tile_layer = folium.TileLayer(\n",
    "    tiles=tiles_link,\n",
    "    min_zoom=3,\n",
    "    max_zoom=20,\n",
    "    opacity=1,\n",
    "    attr=\"Sentinel-2 L2A\"\n",
    ")\n",
    "tile_layer.add_to(m)\n",
    "\n",
    "# render it in the notebook:\n",
    "m"
   ]
  },
  {
   "cell_type": "code",
   "execution_count": null,
   "id": "downtown-messenger",
   "metadata": {},
   "outputs": [],
   "source": []
  }
 ],
 "metadata": {
  "kernelspec": {
   "display_name": "Python 3",
   "language": "python",
   "name": "python3"
  },
  "language_info": {
   "codemirror_mode": {
    "name": "ipython",
    "version": 3
   },
   "file_extension": ".py",
   "mimetype": "text/x-python",
   "name": "python",
   "nbconvert_exporter": "python",
   "pygments_lexer": "ipython3",
   "version": "3.8.5"
  }
 },
 "nbformat": 4,
 "nbformat_minor": 5
}
